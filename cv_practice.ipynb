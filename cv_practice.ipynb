{
 "cells": [
  {
   "cell_type": "code",
   "execution_count": 1,
   "metadata": {},
   "outputs": [],
   "source": [
    "import cv2\n",
    "import matplotlib.pyplot as plt\n",
    "import numpy as np"
   ]
  },
  {
   "cell_type": "code",
   "execution_count": null,
   "metadata": {},
   "outputs": [],
   "source": [
    "img = cv2.imread('up.jpg',cv2.IMREAD_COLOR)\n",
    "print(img.shape)\n",
    "tmp = cv2.resize (img, (448, 448))\n",
    "# cv2.imshow('title',tmp)"
   ]
  },
  {
   "cell_type": "code",
   "execution_count": null,
   "metadata": {},
   "outputs": [],
   "source": [
    "plt.imshow(img)\n",
    "plt.show()"
   ]
  },
  {
   "cell_type": "code",
   "execution_count": null,
   "metadata": {},
   "outputs": [],
   "source": [
    "img = np.zeros((512,512,3), np.uint8)\n",
    "img = cv2.line(img,(0,0),(511,511),(255,0,0),5)\n",
    "plt.imshow(img)"
   ]
  },
  {
   "cell_type": "code",
   "execution_count": null,
   "metadata": {},
   "outputs": [],
   "source": [
    "plt.imshow(cv2.rectangle(img,(384,0),(510,128),(0,5,5),3))\n"
   ]
  },
  {
   "cell_type": "code",
   "execution_count": null,
   "metadata": {},
   "outputs": [],
   "source": [
    "img = cv2.circle(img, (447,63), 63, (0,0,255), -1)\n",
    "plt.imshow(img)"
   ]
  },
  {
   "cell_type": "code",
   "execution_count": null,
   "metadata": {},
   "outputs": [],
   "source": [
    "pts = np.array([[10,5], [20,30], [70,20], [50,10]], np.int32) # 각 꼭지점은 2차원 행렬로 선언\n",
    "# 이미지에 표현하기 위해 3차원 행렬로 변환. 변환이전과 이후의 행렬 갯수는 동일해야함.\n",
    "# -1은 원본에 해당하는 값을 그대로 유지.\n",
    "pts = pts.reshape((-1, 1, 2))\n",
    "img = cv2.polylines(img, [pts], True, (0,255,255))\n",
    "plt.imshow(img)"
   ]
  },
  {
   "cell_type": "code",
   "execution_count": null,
   "metadata": {},
   "outputs": [],
   "source": [
    "events = [i for i in dir(cv2) if 'EVENT' in i]"
   ]
  },
  {
   "cell_type": "code",
   "execution_count": null,
   "metadata": {},
   "outputs": [],
   "source": [
    "print(events)"
   ]
  },
  {
   "cell_type": "code",
   "execution_count": null,
   "metadata": {},
   "outputs": [],
   "source": [
    "def draw_circle(event, x, y, flags, param):\n",
    "    if event == cv2.EVENT_LBUTTONDBLCLK:\n",
    "        cv2.circle(img,(x,y), 100,(255,0,0),-1)"
   ]
  },
  {
   "cell_type": "code",
   "execution_count": null,
   "metadata": {},
   "outputs": [],
   "source": [
    "img = np.zeros((512,512,3), np.uint8)\n",
    "cv2.namedWindow('image')\n",
    "cv2.setMouseCallback('image',draw_circle)\n",
    "while(1):\n",
    "    cv2.imshow('image',img)\n",
    "    if cv2.waitKey(0) & 0xFF == 27:\n",
    "        break\n",
    "cv2.destroyAllWindows()"
   ]
  },
  {
   "cell_type": "code",
   "execution_count": null,
   "metadata": {},
   "outputs": [],
   "source": [
    "def nothing(x):\n",
    "    pass\n",
    "\n",
    "img = np.zeros((300,512,3), np.uint8)\n",
    "cv2.namedWindow('image')\n",
    "\n",
    "# trackbar를 생성하여 named window에 등록\n",
    "cv2.createTrackbar('R', 'image', 0, 255, nothing)\n",
    "cv2.createTrackbar('G', 'image', 0, 255, nothing)\n",
    "cv2.createTrackbar('B', 'image', 0, 255, nothing)\n",
    "\n",
    "switch = '0:OFF\\n1:On'\n",
    "cv2.createTrackbar(switch, 'image', 1, 1, nothing)\n",
    "\n",
    "while(1):\n",
    "    cv2.imshow('image', img)\n",
    "\n",
    "    if cv2.waitKey(1) & 0xFF == 27:\n",
    "        break\n",
    "\n",
    "    r = cv2.getTrackbarPos('R','image')\n",
    "    g = cv2.getTrackbarPos('G', 'image')\n",
    "    b = cv2.getTrackbarPos('B', 'image')\n",
    "    s = cv2.getTrackbarPos(switch, 'image')\n",
    "\n",
    "    if s == 0:\n",
    "        img[:] = 0 # 모든 행/열 좌표 값을 0으로 변경. 검은색\n",
    "    else:\n",
    "        img[:] = [b,g,r] # 모든 행/열 좌표값을 [b,g,r]로 변경\n",
    "\n",
    "cv2.destroyAllWindows()"
   ]
  },
  {
   "cell_type": "code",
   "execution_count": null,
   "metadata": {},
   "outputs": [],
   "source": [
    "img = cv2.imread('up.jpg',cv2.IMREAD_COLOR)\n",
    "px = img[:]\n",
    "print(px.shape)"
   ]
  },
  {
   "cell_type": "code",
   "execution_count": null,
   "metadata": {},
   "outputs": [],
   "source": [
    "px.size"
   ]
  },
  {
   "cell_type": "code",
   "execution_count": null,
   "metadata": {},
   "outputs": [],
   "source": [
    "b,g,r = cv2.split(px)\n",
    "hsv = (cv2.cvtColor(px,cv2.COLOR_BGR2HSV))\n",
    "lower_blue = np.array([110,50,50])\n",
    "upper_blue = np.array([130,255,255])\n",
    "mask = cv2.inRange(hsv,lower_blue,upper_blue)\n",
    "res = cv2.bitwise_and(img,img,mask=mask)\n",
    "\n",
    "plt.subplot(221)\n",
    "plt.imshow(mask)\n",
    "plt.subplot(222)\n",
    "plt.imshow(res)\n",
    "plt.subplot(223)\n",
    "plt.imshow(img)"
   ]
  },
  {
   "cell_type": "code",
   "execution_count": null,
   "metadata": {},
   "outputs": [],
   "source": [
    "import cv2\n",
    "import numpy as np \n",
    "from matplotlib import pyplot as plt \n",
    "\n",
    "img = cv2.imread('up.jpg',0)\n",
    "# img = cv2.medianBlur(img,5)\n",
    "\n",
    "ret, th1 = cv2.threshold(img,127,255,cv2.THRESH_BINARY + cv2.THRESH_OTSU)\n",
    "\n",
    "\n",
    "\n",
    "th2 = cv2.adaptiveThreshold(img,255,cv2.ADAPTIVE_THRESH_MEAN_C,\\\n",
    "cv2.THRESH_BINARY,5,2)\n",
    "th3 = cv2.adaptiveThreshold(img,255,cv2.ADAPTIVE_THRESH_GAUSSIAN_C,\\\n",
    "cv2.THRESH_BINARY,5,2)\n",
    "\n",
    "titles = ['Original','Global','Mean','Gaussian']\n",
    "\n",
    "images = [img,th1,th2,th3]\n",
    "\n",
    "for i in range(4):\n",
    "\tplt.subplot(2,2,i+1),plt.imshow(images[i],'gray')\n",
    "\tplt.title(titles[i])\n",
    "\tplt.xticks([]),plt.yticks([])\n",
    "\n",
    "plt.show()"
   ]
  },
  {
   "cell_type": "code",
   "execution_count": null,
   "metadata": {},
   "outputs": [],
   "source": [
    "img = cv2.imread('up.jpg',1)\n",
    "\n",
    "# 행 : Height, 열:width\n",
    "height, width = img.shape[:2]\n",
    "\n",
    "# 이미지 축소\n",
    "shrink = cv2.resize(img, None, fx=0.5, fy=0.5, interpolation=cv2.INTER_AREA)\n",
    "\n",
    "# Manual Size지정\n",
    "zoom1 = cv2.resize(img, (width*2, height*2), interpolation=cv2.INTER_CUBIC)\n",
    "\n",
    "# 배수 Size지정\n",
    "zoom2 = cv2.resize(img, None, fx=2, fy=2, interpolation=cv2.INTER_CUBIC)\n",
    "\n",
    "\n",
    "cv2.imshow('Origianl', img)\n",
    "cv2.imshow('Shrink', shrink)\n",
    "cv2.imshow('Zoom1', zoom1)\n",
    "cv2.imshow('Zoom2', zoom2)\n",
    "\n",
    "cv2.waitKey(0)\n",
    "cv2.destroyAllWindows()"
   ]
  },
  {
   "cell_type": "code",
   "execution_count": null,
   "metadata": {},
   "outputs": [],
   "source": [
    "rows,cols = img.shape[:2]\n",
    "print(rows,cols)\n",
    "M = np.float32([[1,0,10],[0,1,20]])\n",
    "dst = cv2.warpAffine(img,M,(cols,rows))\n",
    "cv2.imshow('image',dst)"
   ]
  },
  {
   "cell_type": "code",
   "execution_count": null,
   "metadata": {},
   "outputs": [],
   "source": [
    "from matplotlib import pyplot as plt\n",
    "\n",
    "img = cv2.imread('up.jpg',0)\n",
    "canny = cv2.Canny(img,30,70)\n",
    "\n",
    "laplacian = cv2.Laplacian(img,cv2.CV_8U)\n",
    "sobelx = cv2.Sobel(img,cv2.CV_8U,1,0,ksize=3)\n",
    "sobely = cv2.Sobel(img,cv2.CV_8U,0,1,ksize=3)\n",
    "\n",
    "images = [img,laplacian, sobelx, sobely, canny]\n",
    "titles = ['Origianl', 'Laplacian', 'Sobel X', 'Sobel Y','Canny']\n",
    "\n",
    "for i in range(5):\n",
    "    plt.subplot(2,3,i+1),plt.imshow(images[i]),plt.title([titles[i]])\n",
    "    plt.xticks([]),plt.yticks([])\n",
    "\n",
    "plt.show()"
   ]
  },
  {
   "cell_type": "code",
   "execution_count": 3,
   "metadata": {},
   "outputs": [],
   "source": [
    "img = cv2.imread('up.jpg',0)\n",
    "lower_reso = cv2.pyrDown(img)\n",
    "upper_reso = cv2.pyrUp(img)\n",
    "cv2.imshow('img',upper_reso)\n",
    "cv2.imshow('img',lower_reso)\n",
    "cv2.imshow('img',img)\n",
    "cv2.waitKey(0)\n",
    "\n",
    "cv2.destroyAllWindows()"
   ]
  },
  {
   "cell_type": "code",
   "execution_count": null,
   "metadata": {},
   "outputs": [],
   "source": []
  }
 ],
 "metadata": {
  "kernelspec": {
   "display_name": "Python 3",
   "language": "python",
   "name": "python3"
  },
  "language_info": {
   "codemirror_mode": {
    "name": "ipython",
    "version": 3
   },
   "file_extension": ".py",
   "mimetype": "text/x-python",
   "name": "python",
   "nbconvert_exporter": "python",
   "pygments_lexer": "ipython3",
   "version": "3.7.4"
  }
 },
 "nbformat": 4,
 "nbformat_minor": 2
}
