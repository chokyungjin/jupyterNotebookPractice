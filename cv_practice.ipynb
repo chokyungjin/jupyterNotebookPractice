{
 "cells": [
  {
   "cell_type": "code",
   "execution_count": 1,
   "metadata": {},
   "outputs": [],
   "source": [
    "import cv2\n",
    "import matplotlib.pyplot as plt\n",
    "import numpy as np"
   ]
  },
  {
   "cell_type": "code",
   "execution_count": 8,
   "metadata": {},
   "outputs": [
    {
     "name": "stdout",
     "output_type": "stream",
     "text": [
      "(1424, 1424, 3)\n"
     ]
    }
   ],
   "source": [
    "img = cv2.imread('up.jpg',cv2.IMREAD_COLOR)\n",
    "print(img.shape)\n",
    "tmp = cv2.resize (img, (448, 448))\n",
    "# cv2.imshow('title',tmp)"
   ]
  },
  {
   "cell_type": "code",
   "execution_count": null,
   "metadata": {},
   "outputs": [],
   "source": [
    "plt.imshow(img)\n",
    "plt.show()"
   ]
  },
  {
   "cell_type": "code",
   "execution_count": null,
   "metadata": {},
   "outputs": [],
   "source": [
    "img = np.zeros((512,512,3), np.uint8)\n",
    "img = cv2.line(img,(0,0),(511,511),(255,0,0),5)\n",
    "plt.imshow(img)"
   ]
  },
  {
   "cell_type": "code",
   "execution_count": null,
   "metadata": {},
   "outputs": [],
   "source": [
    "plt.imshow(cv2.rectangle(img,(384,0),(510,128),(0,5,5),3))\n"
   ]
  },
  {
   "cell_type": "code",
   "execution_count": null,
   "metadata": {},
   "outputs": [],
   "source": [
    "img = cv2.circle(img, (447,63), 63, (0,0,255), -1)\n",
    "plt.imshow(img)"
   ]
  },
  {
   "cell_type": "code",
   "execution_count": null,
   "metadata": {},
   "outputs": [],
   "source": [
    "pts = np.array([[10,5], [20,30], [70,20], [50,10]], np.int32) # 각 꼭지점은 2차원 행렬로 선언\n",
    "# 이미지에 표현하기 위해 3차원 행렬로 변환. 변환이전과 이후의 행렬 갯수는 동일해야함.\n",
    "# -1은 원본에 해당하는 값을 그대로 유지.\n",
    "pts = pts.reshape((-1, 1, 2))\n",
    "img = cv2.polylines(img, [pts], True, (0,255,255))\n",
    "plt.imshow(img)"
   ]
  },
  {
   "cell_type": "code",
   "execution_count": null,
   "metadata": {},
   "outputs": [],
   "source": [
    "events = [i for i in dir(cv2) if 'EVENT' in i]"
   ]
  },
  {
   "cell_type": "code",
   "execution_count": null,
   "metadata": {},
   "outputs": [],
   "source": [
    "print(events)"
   ]
  },
  {
   "cell_type": "code",
   "execution_count": null,
   "metadata": {},
   "outputs": [],
   "source": [
    "def draw_circle(event, x, y, flags, param):\n",
    "    if event == cv2.EVENT_LBUTTONDBLCLK:\n",
    "        cv2.circle(img,(x,y), 100,(255,0,0),-1)"
   ]
  },
  {
   "cell_type": "code",
   "execution_count": null,
   "metadata": {},
   "outputs": [],
   "source": [
    "img = np.zeros((512,512,3), np.uint8)\n",
    "cv2.namedWindow('image')\n",
    "cv2.setMouseCallback('image',draw_circle)\n",
    "while(1):\n",
    "    cv2.imshow('image',img)\n",
    "    if cv2.waitKey(0) & 0xFF == 27:\n",
    "        break\n",
    "cv2.destroyAllWindows()"
   ]
  },
  {
   "cell_type": "code",
   "execution_count": null,
   "metadata": {},
   "outputs": [],
   "source": [
    "def nothing(x):\n",
    "    pass\n",
    "\n",
    "img = np.zeros((300,512,3), np.uint8)\n",
    "cv2.namedWindow('image')\n",
    "\n",
    "# trackbar를 생성하여 named window에 등록\n",
    "cv2.createTrackbar('R', 'image', 0, 255, nothing)\n",
    "cv2.createTrackbar('G', 'image', 0, 255, nothing)\n",
    "cv2.createTrackbar('B', 'image', 0, 255, nothing)\n",
    "\n",
    "switch = '0:OFF\\n1:On'\n",
    "cv2.createTrackbar(switch, 'image', 1, 1, nothing)\n",
    "\n",
    "while(1):\n",
    "    cv2.imshow('image', img)\n",
    "\n",
    "    if cv2.waitKey(1) & 0xFF == 27:\n",
    "        break\n",
    "\n",
    "    r = cv2.getTrackbarPos('R','image')\n",
    "    g = cv2.getTrackbarPos('G', 'image')\n",
    "    b = cv2.getTrackbarPos('B', 'image')\n",
    "    s = cv2.getTrackbarPos(switch, 'image')\n",
    "\n",
    "    if s == 0:\n",
    "        img[:] = 0 # 모든 행/열 좌표 값을 0으로 변경. 검은색\n",
    "    else:\n",
    "        img[:] = [b,g,r] # 모든 행/열 좌표값을 [b,g,r]로 변경\n",
    "\n",
    "cv2.destroyAllWindows()"
   ]
  },
  {
   "cell_type": "code",
   "execution_count": null,
   "metadata": {},
   "outputs": [],
   "source": [
    "img = cv2.imread('up.jpg',cv2.IMREAD_COLOR)\n",
    "px = img[:]\n",
    "print(px.shape)"
   ]
  },
  {
   "cell_type": "code",
   "execution_count": null,
   "metadata": {},
   "outputs": [],
   "source": [
    "px.size"
   ]
  },
  {
   "cell_type": "code",
   "execution_count": null,
   "metadata": {},
   "outputs": [],
   "source": [
    "b,g,r = cv2.split(px)\n",
    "hsv = (cv2.cvtColor(px,cv2.COLOR_BGR2HSV))\n",
    "lower_blue = np.array([110,50,50])\n",
    "upper_blue = np.array([130,255,255])\n",
    "mask = cv2.inRange(hsv,lower_blue,upper_blue)\n",
    "res = cv2.bitwise_and(img,img,mask=mask)\n",
    "\n",
    "plt.subplot(221)\n",
    "plt.imshow(mask)\n",
    "plt.subplot(222)\n",
    "plt.imshow(res)\n",
    "plt.subplot(223)\n",
    "plt.imshow(img)"
   ]
  },
  {
   "cell_type": "code",
   "execution_count": null,
   "metadata": {},
   "outputs": [],
   "source": [
    "import cv2\n",
    "import numpy as np \n",
    "from matplotlib import pyplot as plt \n",
    "\n",
    "img = cv2.imread('up.jpg',0)\n",
    "# img = cv2.medianBlur(img,5)\n",
    "\n",
    "ret, th1 = cv2.threshold(img,127,255,cv2.THRESH_BINARY + cv2.THRESH_OTSU)\n",
    "\n",
    "\n",
    "\n",
    "th2 = cv2.adaptiveThreshold(img,255,cv2.ADAPTIVE_THRESH_MEAN_C,\\\n",
    "cv2.THRESH_BINARY,5,2)\n",
    "th3 = cv2.adaptiveThreshold(img,255,cv2.ADAPTIVE_THRESH_GAUSSIAN_C,\\\n",
    "cv2.THRESH_BINARY,5,2)\n",
    "\n",
    "titles = ['Original','Global','Mean','Gaussian']\n",
    "\n",
    "images = [img,th1,th2,th3]\n",
    "\n",
    "for i in range(4):\n",
    "\tplt.subplot(2,2,i+1),plt.imshow(images[i],'gray')\n",
    "\tplt.title(titles[i])\n",
    "\tplt.xticks([]),plt.yticks([])\n",
    "\n",
    "plt.show()"
   ]
  },
  {
   "cell_type": "code",
   "execution_count": null,
   "metadata": {},
   "outputs": [],
   "source": [
    "img = cv2.imread('up.jpg',1)\n",
    "\n",
    "# 행 : Height, 열:width\n",
    "height, width = img.shape[:2]\n",
    "\n",
    "# 이미지 축소\n",
    "shrink = cv2.resize(img, None, fx=0.5, fy=0.5, interpolation=cv2.INTER_AREA)\n",
    "\n",
    "# Manual Size지정\n",
    "zoom1 = cv2.resize(img, (width*2, height*2), interpolation=cv2.INTER_CUBIC)\n",
    "\n",
    "# 배수 Size지정\n",
    "zoom2 = cv2.resize(img, None, fx=2, fy=2, interpolation=cv2.INTER_CUBIC)\n",
    "\n",
    "\n",
    "cv2.imshow('Origianl', img)\n",
    "cv2.imshow('Shrink', shrink)\n",
    "cv2.imshow('Zoom1', zoom1)\n",
    "cv2.imshow('Zoom2', zoom2)\n",
    "\n",
    "cv2.waitKey(0)\n",
    "cv2.destroyAllWindows()"
   ]
  },
  {
   "cell_type": "code",
   "execution_count": null,
   "metadata": {},
   "outputs": [],
   "source": [
    "rows,cols = img.shape[:2]\n",
    "print(rows,cols)\n",
    "M = np.float32([[1,0,10],[0,1,20]])\n",
    "dst = cv2.warpAffine(img,M,(cols,rows))\n",
    "cv2.imshow('image',dst)"
   ]
  },
  {
   "cell_type": "code",
   "execution_count": null,
   "metadata": {},
   "outputs": [],
   "source": [
    "from matplotlib import pyplot as plt\n",
    "\n",
    "img = cv2.imread('up.jpg',0)\n",
    "canny = cv2.Canny(img,30,70)\n",
    "\n",
    "laplacian = cv2.Laplacian(img,cv2.CV_8U)\n",
    "sobelx = cv2.Sobel(img,cv2.CV_8U,1,0,ksize=3)\n",
    "sobely = cv2.Sobel(img,cv2.CV_8U,0,1,ksize=3)\n",
    "\n",
    "images = [img,laplacian, sobelx, sobely, canny]\n",
    "titles = ['Origianl', 'Laplacian', 'Sobel X', 'Sobel Y','Canny']\n",
    "\n",
    "for i in range(5):\n",
    "    plt.subplot(2,3,i+1),plt.imshow(images[i]),plt.title([titles[i]])\n",
    "    plt.xticks([]),plt.yticks([])\n",
    "\n",
    "plt.show()"
   ]
  },
  {
   "cell_type": "code",
   "execution_count": 9,
   "metadata": {},
   "outputs": [],
   "source": [
    "img = cv2.imread('up.jpg',0)\n",
    "lower_reso = cv2.pyrDown(img)\n",
    "upper_reso = cv2.pyrUp(img)\n",
    "cv2.imshow('img',upper_reso)\n",
    "cv2.imshow('img',lower_reso)\n",
    "cv2.imshow('img',img)\n",
    "cv2.waitKey(0)\n",
    "\n",
    "cv2.destroyAllWindows()"
   ]
  },
  {
   "cell_type": "code",
   "execution_count": 17,
   "metadata": {},
   "outputs": [
    {
     "name": "stdout",
     "output_type": "stream",
     "text": [
      "[[-1.]\n",
      " [ 0.]\n",
      " [ 1.]]\n",
      "[[1.]\n",
      " [2.]\n",
      " [1.]]\n"
     ]
    }
   ],
   "source": [
    "kx,ky = cv2.getDerivKernels(1,0,ksize=3)\n",
    "print(kx)\n",
    "print(ky)"
   ]
  },
  {
   "cell_type": "code",
   "execution_count": 14,
   "metadata": {},
   "outputs": [
    {
     "data": {
      "text/plain": [
       "array([[-1.,  0.,  1.],\n",
       "       [-2.,  0.,  2.],\n",
       "       [-1.,  0.,  1.]], dtype=float32)"
      ]
     },
     "execution_count": 14,
     "metadata": {},
     "output_type": "execute_result"
    }
   ],
   "source": [
    "sobelX = ky.dot(kx.T)\n",
    "sobelX"
   ]
  },
  {
   "cell_type": "code",
   "execution_count": 20,
   "metadata": {},
   "outputs": [],
   "source": [
    "blur = cv2.GaussianBlur(img,ksize=(7,7),sigmaX = 0.0)\n",
    "cv2.imshow('blur',blur)\n",
    "cv2.waitKey(0)\n",
    "cv2.destroyAllWindows()"
   ]
  },
  {
   "cell_type": "code",
   "execution_count": 21,
   "metadata": {},
   "outputs": [],
   "source": [
    "edges1 = cv2.Canny(img,50,100)\n",
    "cv2.imshow('edges1',edges1)\n",
    "cv2.waitKey(0)\n",
    "cv2.destroyAllWindows()"
   ]
  },
  {
   "cell_type": "code",
   "execution_count": 31,
   "metadata": {},
   "outputs": [
    {
     "name": "stdout",
     "output_type": "stream",
     "text": [
      "104.0\n"
     ]
    }
   ],
   "source": [
    "img = cv2.imread('up.jpg',0)\n",
    "src = np.zeros(shape=(512,512,3),dtype=np.uint8)\n",
    "ret,bimage = cv2.threshold(img,0,255,cv2.THRESH_BINARY_INV + cv2.THRESH_OTSU)\n",
    "print(ret)\n",
    "cv2.imshow('bimage',bimage)\n",
    "cv2.waitKey(0)\n",
    "cv2.destroyAllWindows()"
   ]
  },
  {
   "cell_type": "code",
   "execution_count": 35,
   "metadata": {},
   "outputs": [],
   "source": [
    "dist = cv2.distanceTransform(bimage,cv2.DIST_L1,3)\n",
    "minVal,maxVal,minLoc,maxLoc = cv2.minMaxLoc(dist)\n",
    "mask = (dist>maxVal *0.5).astype(np.uint8)*255\n",
    "cv2.imshow('mask',mask)\n",
    "cv2.waitKey(0)\n",
    "cv2.destroyAllWindows()"
   ]
  },
  {
   "cell_type": "code",
   "execution_count": 39,
   "metadata": {},
   "outputs": [
    {
     "name": "stdout",
     "output_type": "stream",
     "text": [
      "[[111. 111.]\n",
      " [109. 106.]\n",
      " [101.  96.]\n",
      " ...\n",
      " [122. 122.]\n",
      " [113. 121.]\n",
      " [120. 122.]]\n"
     ]
    }
   ],
   "source": [
    "data = img.reshape((-1,2)).astype(np.float32)\n",
    "print(data)"
   ]
  },
  {
   "cell_type": "code",
   "execution_count": 40,
   "metadata": {},
   "outputs": [],
   "source": [
    "K=2\n",
    "term_crit = (cv2.TERM_CRITERIA_EPS)\n"
   ]
  },
  {
   "cell_type": "code",
   "execution_count": 42,
   "metadata": {},
   "outputs": [
    {
     "data": {
      "text/plain": [
       "(1424, 1424, 6)"
      ]
     },
     "execution_count": 42,
     "metadata": {},
     "output_type": "execute_result"
    }
   ],
   "source": [
    "res = cv2.cornerEigenValsAndVecs(img,blockSize=5,ksize=3)\n",
    "res.shape"
   ]
  },
  {
   "cell_type": "code",
   "execution_count": 44,
   "metadata": {},
   "outputs": [
    {
     "data": {
      "text/plain": [
       "[array([[0.00027648, 0.00027134, 0.00033722, ..., 0.00088565, 0.0008015 ,\n",
       "         0.00073064],\n",
       "        [0.00055037, 0.00051481, 0.00049081, ..., 0.00096614, 0.00097479,\n",
       "         0.000963  ],\n",
       "        [0.00063646, 0.00058146, 0.00052499, ..., 0.00126505, 0.00120039,\n",
       "         0.00120352],\n",
       "        ...,\n",
       "        [0.00048734, 0.00042669, 0.00033012, ..., 0.00015646, 0.00018066,\n",
       "         0.00020398],\n",
       "        [0.000264  , 0.00022034, 0.00017432, ..., 0.00019119, 0.0002196 ,\n",
       "         0.00025462],\n",
       "        [0.00037878, 0.0002897 , 0.00022769, ..., 0.0002094 , 0.00025334,\n",
       "         0.00028159]], dtype=float32),\n",
       " array([[1.75962545e-04, 1.81099327e-04, 1.63664590e-04, ...,\n",
       "         7.52114502e-05, 2.63398451e-05, 2.99942531e-05],\n",
       "        [1.62589524e-04, 1.91765168e-04, 2.72815494e-04, ...,\n",
       "         8.62218658e-05, 2.42917613e-05, 2.89314066e-05],\n",
       "        [1.74767221e-04, 2.15307329e-04, 2.68012634e-04, ...,\n",
       "         1.33408714e-04, 1.00569574e-04, 1.01820624e-04],\n",
       "        ...,\n",
       "        [2.13777021e-04, 2.23906085e-04, 1.96294990e-04, ...,\n",
       "         1.22740239e-04, 1.08302767e-04, 1.10514142e-04],\n",
       "        [1.63681179e-04, 1.84893215e-04, 1.57938572e-04, ...,\n",
       "         1.44375546e-04, 1.30961154e-04, 1.26924147e-04],\n",
       "        [1.11187539e-04, 1.75348367e-04, 1.45706625e-04, ...,\n",
       "         1.19853190e-04, 1.11441725e-04, 1.03492253e-04]], dtype=float32),\n",
       " array([[ 0.96034956,  0.94803464,  0.9998797 , ..., -0.25565556,\n",
       "         -0.16856797, -0.166277  ],\n",
       "        [-0.74146575, -0.7037323 , -0.7095961 , ..., -0.20686226,\n",
       "         -0.1164363 , -0.10011189],\n",
       "        [-0.7985827 , -0.75242966, -0.66636693, ..., -0.1949832 ,\n",
       "         -0.12834065, -0.12665103],\n",
       "        ...,\n",
       "        [-0.39312586, -0.53915375, -0.2671229 , ...,  0.8691384 ,\n",
       "          0.8466291 ,  0.85026413],\n",
       "        [ 0.05758303,  0.5656217 ,  0.8236448 , ...,  0.78525347,\n",
       "          0.80842537, -0.81841743],\n",
       "        [ 0.41661054,  0.35705045,  0.47552365, ...,  0.887011  ,\n",
       "          0.902983  , -0.8971142 ]], dtype=float32),\n",
       " array([[-0.2787986 , -0.31816706, -0.01550875, ...,  0.9667679 ,\n",
       "          0.98569006,  0.9860791 ],\n",
       "        [ 0.6709907 ,  0.71046525,  0.7046086 , ...,  0.9783701 ,\n",
       "          0.99319816,  0.99497616],\n",
       "        [ 0.6018851 ,  0.6586726 ,  0.745624  , ...,  0.9808066 ,\n",
       "          0.99173015,  0.99194735],\n",
       "        ...,\n",
       "        [ 0.9194847 ,  0.8422073 ,  0.96366245, ..., -0.49456894,\n",
       "         -0.5321834 , -0.5263562 ],\n",
       "        [ 0.9983407 , -0.8246649 , -0.56710595, ..., -0.6191745 ,\n",
       "         -0.58859867,  0.5746241 ],\n",
       "        [ 0.90908504,  0.9340851 ,  0.8797029 , ..., -0.4617483 ,\n",
       "         -0.42967623,  0.44179866]], dtype=float32),\n",
       " array([[-0.2787986 , -0.31816706, -0.01550875, ..., -0.9667679 ,\n",
       "         -0.98569   , -0.9860791 ],\n",
       "        [-0.6709907 , -0.71046525, -0.7046086 , ..., -0.9783701 ,\n",
       "         -0.99319816, -0.99497616],\n",
       "        [-0.6018851 , -0.6586726 , -0.745624  , ..., -0.9808066 ,\n",
       "         -0.99173015, -0.99194735],\n",
       "        ...,\n",
       "        [-0.9194847 , -0.8422073 , -0.96366245, ..., -0.49456894,\n",
       "         -0.5321834 , -0.5263562 ],\n",
       "        [-0.9983407 , -0.8246649 , -0.56710595, ..., -0.6191745 ,\n",
       "         -0.58859867, -0.5746241 ],\n",
       "        [ 0.90908504, -0.9340851 , -0.8797029 , ..., -0.4617483 ,\n",
       "         -0.42967623, -0.44179866]], dtype=float32),\n",
       " array([[-0.96034956, -0.94803464, -0.9998797 , ..., -0.25565556,\n",
       "         -0.16856796, -0.166277  ],\n",
       "        [-0.74146575, -0.7037323 , -0.7095961 , ..., -0.20686226,\n",
       "         -0.1164363 , -0.10011189],\n",
       "        [-0.7985827 , -0.75242966, -0.66636693, ..., -0.1949832 ,\n",
       "         -0.12834065, -0.12665103],\n",
       "        ...,\n",
       "        [-0.39312583, -0.53915375, -0.2671229 , ..., -0.8691384 ,\n",
       "         -0.8466291 , -0.85026413],\n",
       "        [ 0.05758303, -0.5656217 , -0.8236448 , ..., -0.78525347,\n",
       "         -0.80842537, -0.81841743],\n",
       "        [-0.41661054,  0.35705045,  0.47552365, ..., -0.887011  ,\n",
       "         -0.902983  , -0.8971142 ]], dtype=float32)]"
      ]
     },
     "execution_count": 44,
     "metadata": {},
     "output_type": "execute_result"
    }
   ],
   "source": [
    "eigen =cv2.split(res)\n",
    "eigen"
   ]
  },
  {
   "cell_type": "code",
   "execution_count": 2,
   "metadata": {},
   "outputs": [],
   "source": [
    "def distance(f1,f2):\n",
    "    x1,y1 = f1.pt\n",
    "    x2,y2 = f2.pt\n",
    "    return np.sqrt((x2-x1)**2 + (y2-y1)**2)"
   ]
  },
  {
   "cell_type": "code",
   "execution_count": 3,
   "metadata": {},
   "outputs": [],
   "source": [
    "def filteringByDistance(kp,distE = 0.5):\n",
    "    size = len(kp)\n",
    "    mask = np.arrange(1,size+1).astype(np.bool8)\n",
    "    for i , f1 in enumerate(kp):\n",
    "        if not mask[i]:\n",
    "            continue\n",
    "        else:\n",
    "            for j , f2 in enumerate(kp):\n",
    "                if i==j:\n",
    "                    continue\n",
    "                if distance(f1,f2)< distE:\n",
    "                    mask[j]=False\n",
    "    np_kp = np.array(kp)\n",
    "    return list(np_kp[mask])"
   ]
  },
  {
   "cell_type": "code",
   "execution_count": 5,
   "metadata": {},
   "outputs": [],
   "source": [
    "img = cv2.imread('up.jpg',0)\n",
    "gray = cv2.GaussianBlur(img,(5,5),0.0)"
   ]
  },
  {
   "cell_type": "code",
   "execution_count": 6,
   "metadata": {},
   "outputs": [],
   "source": [
    "briskF = cv2.BRISK_create()\n",
    "kp = briskF.detect(gray)\n",
    "dst = cv2.drawKeypoints(gray,kp,None,color=(0,0,255))\n",
    "cv2.imshow('dst',dst)\n",
    "cv2.waitKey(0)\n",
    "cv2.destroyAllWindows()\n"
   ]
  },
  {
   "cell_type": "code",
   "execution_count": 16,
   "metadata": {},
   "outputs": [
    {
     "ename": "ValueError",
     "evalue": "not enough values to unpack (expected 3, got 2)",
     "output_type": "error",
     "traceback": [
      "\u001b[1;31m---------------------------------------------------------------------------\u001b[0m",
      "\u001b[1;31mValueError\u001b[0m                                Traceback (most recent call last)",
      "\u001b[1;32m<ipython-input-16-2ba5d43013c8>\u001b[0m in \u001b[0;36m<module>\u001b[1;34m\u001b[0m\n\u001b[0;32m      8\u001b[0m \u001b[0mmode\u001b[0m \u001b[1;33m=\u001b[0m \u001b[0mcv2\u001b[0m\u001b[1;33m.\u001b[0m\u001b[0mRETR_EXTERNAL\u001b[0m\u001b[1;33m\u001b[0m\u001b[1;33m\u001b[0m\u001b[0m\n\u001b[0;32m      9\u001b[0m \u001b[0mmethod\u001b[0m \u001b[1;33m=\u001b[0m \u001b[0mcv2\u001b[0m\u001b[1;33m.\u001b[0m\u001b[0mCHAIN_APPROX_SIMPLE\u001b[0m\u001b[1;33m\u001b[0m\u001b[1;33m\u001b[0m\u001b[0m\n\u001b[1;32m---> 10\u001b[1;33m \u001b[0mimage\u001b[0m\u001b[1;33m,\u001b[0m\u001b[0mcontours\u001b[0m\u001b[1;33m,\u001b[0m\u001b[0mhierarchy\u001b[0m \u001b[1;33m=\u001b[0m \u001b[0mcv2\u001b[0m\u001b[1;33m.\u001b[0m\u001b[0mfindContours\u001b[0m\u001b[1;33m(\u001b[0m\u001b[0mbimage\u001b[0m\u001b[1;33m,\u001b[0m\u001b[0mcv2\u001b[0m\u001b[1;33m.\u001b[0m\u001b[0mRETR_EXTERNAL\u001b[0m\u001b[1;33m,\u001b[0m\u001b[0mcv2\u001b[0m\u001b[1;33m.\u001b[0m\u001b[0mCHAIN_APPROX_SIMPLE\u001b[0m\u001b[1;33m)\u001b[0m\u001b[1;33m\u001b[0m\u001b[1;33m\u001b[0m\u001b[0m\n\u001b[0m\u001b[0;32m     11\u001b[0m \u001b[0mmaxLength\u001b[0m \u001b[1;33m=\u001b[0m \u001b[1;36m0\u001b[0m\u001b[1;33m\u001b[0m\u001b[1;33m\u001b[0m\u001b[0m\n\u001b[0;32m     12\u001b[0m \u001b[0mk\u001b[0m\u001b[1;33m=\u001b[0m\u001b[1;36m0\u001b[0m\u001b[1;33m\u001b[0m\u001b[1;33m\u001b[0m\u001b[0m\n",
      "\u001b[1;31mValueError\u001b[0m: not enough values to unpack (expected 3, got 2)"
     ]
    }
   ],
   "source": [
    "img = cv2.imread('up.jpg',0)\n",
    "ret,bimage = cv2.threshold(img,220,255,cv2.THRESH_BINARY_INV)\n",
    "bimage = cv2.dilate(bimage,None)\n",
    "# cv2.imshow('bimage',bimage)\n",
    "# cv2.waitKey(0)\n",
    "# cv2.destroyAllWindows()\n",
    "\n",
    "mode = cv2.RETR_EXTERNAL\n",
    "method = cv2.CHAIN_APPROX_SIMPLE\n",
    "image,contours,hierarchy = cv2.findContours(bimage,cv2.RETR_EXTERNAL,cv2.CHAIN_APPROX_SIMPLE)\n",
    "maxLength = 0\n",
    "k=0\n",
    "for i,cnt in enumerate(contours):\n",
    "    perimeter = cv2.arcLength(cnt,closed=True)\n",
    "    if perimeter > maxLength:\n",
    "        maxLength = perimeter\n",
    "        k=i\n",
    "print('maxLength',maxLength)\n",
    "cnt=contours[k]\n",
    "dst2=img.copy()\n",
    "cv2.drawContours(dst2,[cnt],0,(255,0,0),3)\n",
    "cv2.waitKey(0)\n",
    "cv2.destroyAllWindows()"
   ]
  },
  {
   "cell_type": "code",
   "execution_count": 12,
   "metadata": {},
   "outputs": [
    {
     "ename": "NameError",
     "evalue": "name 'cnt' is not defined",
     "output_type": "error",
     "traceback": [
      "\u001b[1;31m---------------------------------------------------------------------------\u001b[0m",
      "\u001b[1;31mNameError\u001b[0m                                 Traceback (most recent call last)",
      "\u001b[1;32m<ipython-input-12-1ab555cf4ff3>\u001b[0m in \u001b[0;36m<module>\u001b[1;34m\u001b[0m\n\u001b[0;32m      1\u001b[0m \u001b[0mdst2\u001b[0m\u001b[1;33m=\u001b[0m\u001b[0mimg\u001b[0m\u001b[1;33m.\u001b[0m\u001b[0mcopy\u001b[0m\u001b[1;33m(\u001b[0m\u001b[1;33m)\u001b[0m\u001b[1;33m\u001b[0m\u001b[1;33m\u001b[0m\u001b[0m\n\u001b[0;32m      2\u001b[0m \u001b[0mrows\u001b[0m\u001b[1;33m,\u001b[0m\u001b[0mcols\u001b[0m \u001b[1;33m=\u001b[0m \u001b[0mdst2\u001b[0m\u001b[1;33m.\u001b[0m\u001b[0mshape\u001b[0m\u001b[1;33m[\u001b[0m\u001b[1;33m:\u001b[0m\u001b[1;36m2\u001b[0m\u001b[1;33m]\u001b[0m\u001b[1;33m\u001b[0m\u001b[1;33m\u001b[0m\u001b[0m\n\u001b[1;32m----> 3\u001b[1;33m \u001b[1;33m[\u001b[0m\u001b[0mvx\u001b[0m\u001b[1;33m,\u001b[0m\u001b[0mvy\u001b[0m\u001b[1;33m,\u001b[0m\u001b[0mx\u001b[0m\u001b[1;33m,\u001b[0m\u001b[0my\u001b[0m\u001b[1;33m]\u001b[0m \u001b[1;33m=\u001b[0m \u001b[0mcv2\u001b[0m\u001b[1;33m.\u001b[0m\u001b[0mfitLine\u001b[0m\u001b[1;33m(\u001b[0m\u001b[0mcnt\u001b[0m\u001b[1;33m,\u001b[0m\u001b[0mcv2\u001b[0m\u001b[1;33m.\u001b[0m\u001b[0mDIST_L2\u001b[0m\u001b[1;33m,\u001b[0m\u001b[1;36m0\u001b[0m\u001b[1;33m,\u001b[0m\u001b[1;36m0.01\u001b[0m\u001b[1;33m,\u001b[0m\u001b[1;36m0.01\u001b[0m\u001b[1;33m)\u001b[0m\u001b[1;33m\u001b[0m\u001b[1;33m\u001b[0m\u001b[0m\n\u001b[0m\u001b[0;32m      4\u001b[0m \u001b[0my1\u001b[0m\u001b[1;33m=\u001b[0m\u001b[0mint\u001b[0m\u001b[1;33m(\u001b[0m\u001b[1;33m(\u001b[0m\u001b[1;33m-\u001b[0m\u001b[0mx\u001b[0m \u001b[1;33m*\u001b[0m \u001b[0mvy\u001b[0m\u001b[1;33m/\u001b[0m\u001b[0mvx\u001b[0m\u001b[1;33m)\u001b[0m \u001b[1;33m+\u001b[0m\u001b[0my\u001b[0m\u001b[1;33m)\u001b[0m\u001b[1;33m\u001b[0m\u001b[1;33m\u001b[0m\u001b[0m\n\u001b[0;32m      5\u001b[0m \u001b[0my2\u001b[0m \u001b[1;33m=\u001b[0m \u001b[0mint\u001b[0m\u001b[1;33m(\u001b[0m\u001b[1;33m(\u001b[0m\u001b[1;33m(\u001b[0m\u001b[0mcols\u001b[0m\u001b[1;33m-\u001b[0m\u001b[0mx\u001b[0m\u001b[1;33m)\u001b[0m\u001b[1;33m*\u001b[0m\u001b[0mvy\u001b[0m\u001b[1;33m/\u001b[0m\u001b[0mvx\u001b[0m\u001b[1;33m)\u001b[0m\u001b[1;33m+\u001b[0m\u001b[0my\u001b[0m\u001b[1;33m)\u001b[0m\u001b[1;33m\u001b[0m\u001b[1;33m\u001b[0m\u001b[0m\n",
      "\u001b[1;31mNameError\u001b[0m: name 'cnt' is not defined"
     ]
    }
   ],
   "source": [
    "dst2=img.copy()\n",
    "cnt = contours[0]\n",
    "rows,cols = dst2.shape[:2]\n",
    "[vx,vy,x,y] = cv2.fitLine(cnt,cv2.DIST_L2,0,0.01,0.01)\n",
    "y1=int((-x * vy/vx) +y)\n",
    "y2 = int(((cols-x)*vy/vx)+y)\n",
    "cv2.line(dst2,(0,y1),(cols-1,y2),(0,0,255),2)\n",
    "cv2.imshow('dst',dst)\n",
    "cv2.waitKey(0)\n",
    "cv2.destroyAllWindows()"
   ]
  },
  {
   "cell_type": "code",
   "execution_count": 19,
   "metadata": {},
   "outputs": [
    {
     "name": "stdout",
     "output_type": "stream",
     "text": [
      "[[ 1  2  3  4]\n",
      " [ 5  6  7  8]\n",
      " [ 9 10 11 12]\n",
      " [13 14 15 16]]\n",
      "[[  0   0   0   0   0]\n",
      " [  0   1   3   6  10]\n",
      " [  0   6  14  24  36]\n",
      " [  0  15  33  54  78]\n",
      " [  0  28  60  96 136]]\n",
      "[[0.000e+00 0.000e+00 0.000e+00 0.000e+00 0.000e+00]\n",
      " [0.000e+00 1.000e+00 5.000e+00 1.400e+01 3.000e+01]\n",
      " [0.000e+00 2.600e+01 6.600e+01 1.240e+02 2.040e+02]\n",
      " [0.000e+00 1.070e+02 2.470e+02 4.260e+02 6.500e+02]\n",
      " [0.000e+00 2.760e+02 6.120e+02 1.016e+03 1.496e+03]]\n",
      "[[ 0  0  0  0  0]\n",
      " [ 0  1  2  3  4]\n",
      " [ 1  8 12 16 15]\n",
      " [ 8 26 38 42 36]\n",
      " [26 60 80 84 70]]\n"
     ]
    }
   ],
   "source": [
    "A=np.arange(1,17).reshape(4,4).astype(np.uint8)\n",
    "print(A)\n",
    "sumA,sqsumA,tiltedA = cv2.integral3(A)\n",
    "print(sumA)\n",
    "print(sqsumA)\n",
    "print(tiltedA)"
   ]
  },
  {
   "cell_type": "code",
   "execution_count": 20,
   "metadata": {},
   "outputs": [],
   "source": [
    "gray_sum = cv2.integral(img)\n",
    "dst = cv2.normalize(gray_sum,None,0,255,\n",
    "                   cv2.NORM_MINMAX,dtype = cv2.CV_8U)\n",
    "cv2.imshow('dst',dst)\n",
    "cv2.waitKey(0)\n",
    "cv2.destroyAllWindows()"
   ]
  },
  {
   "cell_type": "code",
   "execution_count": 21,
   "metadata": {},
   "outputs": [],
   "source": [
    "def rectSum(sumImage,rect):\n",
    "    x,y,w,h = rect\n",
    "    a = sumImage[y,x]\n",
    "    b = sumImage[y,x+w]\n",
    "    c = sumImage[y+h,x]\n",
    "    d = sumImage[y+h,x+w]\n",
    "    return a+d-b-c\n",
    "def compute_Haar_feature1(sumImage,rect):\n",
    "    x,y,w,h=rect\n",
    "    s1=rectSum(sumImage,(x,y,w,h))\n",
    "    s2=rectSum(sumImage,(x+w,y,w,h))\n",
    "    return s1 -s2\n",
    "\n",
    "def compute_Haar_feature2(sumImage,rect):\n",
    "    x,y,w,h=rect\n",
    "    s1=rectSum(sumImage,(x,y,w,h))\n",
    "    s2=rectSum(sumImage,(x,y+h,w,h))\n",
    "    return s2 -s1\n"
   ]
  },
  {
   "cell_type": "code",
   "execution_count": 23,
   "metadata": {},
   "outputs": [
    {
     "name": "stdout",
     "output_type": "stream",
     "text": [
      "[[ 1  2  3  4  5  6]\n",
      " [ 7  8  9 10 11 12]\n",
      " [13 14 15 16 17 18]\n",
      " [19 20 21 22 23 24]\n",
      " [25 26 27 28 29 30]\n",
      " [31 32 33 34 35 36]]\n",
      "[[  0   0   0   0   0   0   0]\n",
      " [  0   1   3   6  10  15  21]\n",
      " [  0   8  18  30  44  60  78]\n",
      " [  0  21  45  72 102 135 171]\n",
      " [  0  40  84 132 184 240 300]\n",
      " [  0  65 135 210 290 375 465]\n",
      " [  0  96 198 306 420 540 666]]\n"
     ]
    }
   ],
   "source": [
    "A = np.arange(1,6*6 +1).reshape(6,6).astype(np.uint8)\n",
    "print(A)\n",
    "h,w=A.shape\n",
    "sumA = cv2.integral(A)\n",
    "print(sumA)"
   ]
  },
  {
   "cell_type": "code",
   "execution_count": 24,
   "metadata": {},
   "outputs": [
    {
     "data": {
      "text/plain": [
       "-54"
      ]
     },
     "execution_count": 24,
     "metadata": {},
     "output_type": "execute_result"
    }
   ],
   "source": [
    "compute_Haar_feature1(sumA,(0,0,w//2,h))"
   ]
  },
  {
   "cell_type": "code",
   "execution_count": 25,
   "metadata": {},
   "outputs": [
    {
     "data": {
      "text/plain": [
       "324"
      ]
     },
     "execution_count": 25,
     "metadata": {},
     "output_type": "execute_result"
    }
   ],
   "source": [
    "compute_Haar_feature2(sumA,(0,0,w,h//2))"
   ]
  },
  {
   "cell_type": "code",
   "execution_count": null,
   "metadata": {},
   "outputs": [],
   "source": []
  },
  {
   "cell_type": "code",
   "execution_count": null,
   "metadata": {},
   "outputs": [],
   "source": []
  },
  {
   "cell_type": "code",
   "execution_count": null,
   "metadata": {},
   "outputs": [],
   "source": []
  },
  {
   "cell_type": "code",
   "execution_count": null,
   "metadata": {},
   "outputs": [],
   "source": []
  },
  {
   "cell_type": "code",
   "execution_count": null,
   "metadata": {},
   "outputs": [],
   "source": []
  },
  {
   "cell_type": "code",
   "execution_count": null,
   "metadata": {},
   "outputs": [],
   "source": []
  },
  {
   "cell_type": "code",
   "execution_count": null,
   "metadata": {},
   "outputs": [],
   "source": []
  },
  {
   "cell_type": "code",
   "execution_count": null,
   "metadata": {},
   "outputs": [],
   "source": []
  },
  {
   "cell_type": "code",
   "execution_count": null,
   "metadata": {},
   "outputs": [],
   "source": []
  },
  {
   "cell_type": "code",
   "execution_count": null,
   "metadata": {},
   "outputs": [],
   "source": []
  },
  {
   "cell_type": "code",
   "execution_count": null,
   "metadata": {},
   "outputs": [],
   "source": []
  }
 ],
 "metadata": {
  "kernelspec": {
   "display_name": "Python 3",
   "language": "python",
   "name": "python3"
  },
  "language_info": {
   "codemirror_mode": {
    "name": "ipython",
    "version": 3
   },
   "file_extension": ".py",
   "mimetype": "text/x-python",
   "name": "python",
   "nbconvert_exporter": "python",
   "pygments_lexer": "ipython3",
   "version": "3.7.4"
  }
 },
 "nbformat": 4,
 "nbformat_minor": 2
}
